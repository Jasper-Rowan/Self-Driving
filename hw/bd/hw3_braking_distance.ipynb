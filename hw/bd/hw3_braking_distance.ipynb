{
 "cells": [
  {
   "cell_type": "code",
   "execution_count": 31,
   "metadata": {},
   "outputs": [],
   "source": [
    "import sys\n",
    "sys.path.append('../../')\n",
    "\n",
    "from car_iface import controller_model\n",
    "from utils import nn\n",
    "import numpy as np\n",
    "import matplotlib.pyplot as plt"
   ]
  },
  {
   "cell_type": "code",
   "execution_count": 32,
   "metadata": {},
   "outputs": [
    {
     "name": "stdout",
     "output_type": "stream",
     "text": [
      "Using Neural Model\n"
     ]
    }
   ],
   "source": [
    "'''\n",
    "Set the MODE here to either use a Neural Model (FCN)\n",
    "or the analytical equation.  Note the analytical equation\n",
    "can only be used for simple motion dynamics.\n",
    "'''\n",
    "MODE = 0\n",
    "MODE_DICT = {0: \"Neural Model\", 1: \"Analytical Equation\"}\n",
    "print(f\"Using {MODE_DICT[MODE]}\")"
   ]
  },
  {
   "cell_type": "code",
   "execution_count": 33,
   "metadata": {},
   "outputs": [],
   "source": [
    "'''\n",
    "CAR_MODEL you set to either \"simple\" or \"complex\".\n",
    "This dictates the internal model dynamics you will be using.\n",
    "'''\n",
    "CAR_MODEL = \"complex\"\n",
    "ci = controller_model.Car_Interface(model = CAR_MODEL)\n",
    "\n",
    "ci.set_gear(ci.FORWARD)\n",
    "\n",
    "if (MODE_DICT[MODE] == \"Simple Equation\" and CAR_MODEL == \"complex\"):\n",
    "    raise Exception(\"Invalid combination.\")"
   ]
  },
  {
   "cell_type": "markdown",
   "metadata": {},
   "source": [
    "## Stopping Distance Generation"
   ]
  },
  {
   "cell_type": "markdown",
   "metadata": {},
   "source": [
    "Here we take advantage of the controller model we\n",
    "developed using System ID.  Now instead of spending\n",
    "excessive amounts of time manually controlling the car\n",
    "we can easily generate data to work with.\n",
    "\n",
    "For a basic implementation of this function follow the\n",
    "below steps.  A model trained with this data will not\n",
    "work in all cases, but it will generally.  If you would\n",
    "like to learn why and come up with a more robust data\n",
    "generation scheme see the braking_distance_extra ipynb\n",
    "when it is released next lecture.\n",
    "\n",
    "IMPORTANT NOTE: For this to work with the \"complex\"\n",
    "car model you will have to first fill out one small\n",
    "section around line 138 in controller_model.py. This\n",
    "will allow your controller model to work with the non-linear \n",
    "SystemID shared during lecture."
   ]
  },
  {
   "cell_type": "code",
   "execution_count": 34,
   "metadata": {},
   "outputs": [],
   "source": [
    "'''\n",
    "Basic Instructions:\n",
    "1a.Select an initial velocity uniformly at random between 0 and 1. (see: np.random.random())\n",
    " b.Directly set the controller's velocity to this initial velocity.\n",
    " c.Zero the position of the controller.\n",
    "2.Select a brake pedal amount, amt, uniformly at random between 0 and 1.\n",
    "3a.Initialize a counter variable, t, to 0.\n",
    " b.While the controller's velocity is positive repeat the following steps.\n",
    " c.Apply the brakes at depression % amt for one time step.\n",
    " d.Increment t by the controller's dt time step.\n",
    " e.If t exceeds a time limit of 5 seconds, break out of this inner loop.\n",
    "4.If the controller's velocity is 0 proceed, otherwise repeat steps 1 to 4.\n",
    "5.The stopping distance is the position of the car, get this from the controller model.\n",
    "6.Initialize inp as a list of length two, where the first element is the\n",
    "  initial velocity, and the second element is the stopping distance.\n",
    "7.Return amt, inp\n",
    "\n",
    "What we are doing here is repeatedly trying random configurations of intial speed\n",
    "and brake amount.  If we stop within the time limit then we have a valid data point.\n",
    "The current position represents our stopping distance.\n",
    "\n",
    "We take advantage of having a controller model in 3 ways.\n",
    "1. Can run the simulations a lot faster.\n",
    "2. Can directly set velocity (used in step 1b)\n",
    "3. Don't have noise with measurements (helps a lot when velocity gets close to 0)\n",
    "\n",
    "NOTE: this specific method of data generation produces a couple biases.  Consider\n",
    "the following scenario.  The car is fairly far from the target brake point.  Further,\n",
    "it is not moving very fast.  Here you attempt to precision brake, but you might find\n",
    "the car stops too early Why might this type of data point not be captured by this\n",
    "generation method?  If you see how to fix this feel free to do so.  If not next\n",
    "lecture a supplementary notebook will be released detailing the few steps needed\n",
    "to do so.\n",
    "'''\n",
    "def stopping_distance_gen():\n",
    "    \n",
    "    # CODE HERE\n",
    "    vel = 0\n",
    "    amt = 0\n",
    "    while True:\n",
    "        vel = np.random.rand()\n",
    "        ci.velocity = vel\n",
    "        ci.zero_position()\n",
    "        amt = np.random.rand()\n",
    "        t = 0\n",
    "        while ci.velocity > 0 and t <= 5:\n",
    "            ci.apply_control(ci.BRAKE, amt)\n",
    "            t += ci.dt\n",
    "        if ci.velocity == 0:\n",
    "            break\n",
    "    stop_dist = ci.position\n",
    "    inp = [vel, stop_dist]\n",
    "    return amt, inp"
   ]
  },
  {
   "cell_type": "code",
   "execution_count": 35,
   "metadata": {},
   "outputs": [
    {
     "name": "stdout",
     "output_type": "stream",
     "text": [
      "A car moving at 49.78% speed, applied 14.56% brakes and stopped, after travelling 0.85 distance units\n"
     ]
    }
   ],
   "source": [
    "'''\n",
    "Displays a sample data point.  If this provides a reasonable \n",
    "output you probably did the previous part correctly.  \n",
    "'''\n",
    "amt, (initial_velocity, stopping_distance) = stopping_distance_gen()\n",
    "print(f\"A car moving at {initial_velocity * 100:.2f}% speed, applied {amt * 100:.2f}% brakes and stopped, after travelling {stopping_distance:.2f} distance units\")"
   ]
  },
  {
   "cell_type": "markdown",
   "metadata": {},
   "source": [
    "## Analytical Solution for 'Simple' Car Model"
   ]
  },
  {
   "cell_type": "markdown",
   "metadata": {},
   "source": [
    "IMPORTANT NOTE: When you have completed implementations of these two functions, paste their definitions into the corresponding locations (under the matching function headers) in braking_distance/bd_api.py.  This is what the simulator will actually interact with."
   ]
  },
  {
   "cell_type": "code",
   "execution_count": 36,
   "metadata": {},
   "outputs": [],
   "source": [
    "'''\n",
    "Write the analytical solution for the theoretical stopping distance.\n",
    "The equation is presented in the lecture slides (Slides 9-13)\n",
    "\n",
    "Some helpful reminders:\n",
    "    The linear model assumes: accel = c_1 * p_accel + c_2 * p_brake + c_3 * vel + c_4\n",
    "    c_1 = ci.accelerator_weight\n",
    "    c_2 = ci.brake_weight\n",
    "    c_3 = -ci.friction_constant\n",
    "    c_4 = ci.rolling_bias\n",
    "    (Where ci is the car interface you initialized above)\n",
    "\n",
    "Implemenation Instructions:\n",
    "1. Initialize x, f, and v0 from available information\n",
    "2. Check if the expression in Slide 13 would evaluate infinity, if so return float('inf')\n",
    "3. Otherwise return the stopping distance as calculated in Slide 3.\n",
    "\n",
    "NOTE: the stopping distance will be infinite when the brake amount is not enough to \n",
    "overcome the rolling bias.\n",
    "\n",
    "The only discrepancy between this and the actual stopping distance\n",
    "arises from the discretized nature of the simulation.  This is\n",
    "a precise calculation otherwise.\n",
    "\n",
    "IMPORTANT: After implementing this sucessfully paste the function body in \n",
    "the corresponding and marked location in braking_distance/bd_api.py (line 80)\n",
    "'''\n",
    "def simple_analytical_sd(initial_velocity, amt):\n",
    "    \n",
    "    #CODE HERE\n",
    "    x = ci.brake_weight * amt + ci.rolling_bias\n",
    "    f = ci.friction_constant\n",
    "    v0 = initial_velocity\n",
    "    if f*v0/x == 1:\n",
    "        return float('inf')\n",
    "    return (1/f) * (v0 + (x/f) * np.log(1 - (f*v0/x)))\n",
    "'''\n",
    "Function takes as input the initial velocity and desired stopping distance.\n",
    "Then using binary search returns an estimate within the specified tolerance\n",
    "of the actual required brake amount.\n",
    "\n",
    "Parameters:\n",
    "inp: (initial velocity, desired stopping distance)\n",
    "tol: estimate tolerance \n",
    "min_amt: minumum possible value of the required brake amount (initially 0)\n",
    "max_amt: maximum possible value of the required brake amount (initially 1)\n",
    "\n",
    "\n",
    "Implemenation Instructions\n",
    "1.Initialize mid_amt as the midway point between min_amt and max_amt.\n",
    "2.If the length of the min max interval is less than twice the tolerance,\n",
    "  then mid_amt is a valid estimate (+/- the the tolerance of the actual)\n",
    "3a.Calculate the analytical stopping distance with the given initial velocity,\n",
    "   and current estimate (mid_amt).\n",
    " b.Update min_amt and max_amt accordingly to narrow the search space and recurse.\n",
    "   (NOTE: careful, if the stopping distance is too high is the mid_amt too high or low?)\n",
    "   \n",
    "IMPORTANT: After implementing this sucessefully paste the function body in the \n",
    "corresponding and marked location in braking_distance/bd_api.py (roughly line 90)\n",
    "'''\n",
    "def simple_analytical_approx(inp, tol = 1e-5, min_amt = 0, max_amt = 1):\n",
    "    \n",
    "    #CODE HERE\n",
    "    mid_amt = (min_amt + max_amt) / 2\n",
    "    if max_amt - min_amt < 2 * tol:\n",
    "        return mid_amt\n",
    "    sd = simple_analytical_sd(inp[0], mid_amt)\n",
    "    if sd > inp[1]:\n",
    "        return simple_analytical_approx(inp, tol, mid_amt, max_amt)\n",
    "    else:\n",
    "        return simple_analytical_approx(inp, tol, min_amt, mid_amt)"
   ]
  },
  {
   "cell_type": "code",
   "execution_count": 37,
   "metadata": {},
   "outputs": [],
   "source": [
    "'''\n",
    "Demonstrate the performance of the Analytical Equation Estimate\n",
    "with a few examples.  (The estimate is the \"Closed Form Brake Amount\").\n",
    "The simulated result and the closed form brake amount should be very close.\n",
    "The discrepancy is largest in extreme value cases where the discretization\n",
    "has a significant effect.\n",
    "'''\n",
    "if (MODE == 1):\n",
    "    for i in range(3):\n",
    "            amt, (initial_velocity, stopping_distance) = stopping_distance_gen()\n",
    "            pred = simple_analytical_approx((initial_velocity, stopping_distance))\n",
    "            print(f\"Car moving at {initial_velocity * 100:.2f}%; Target Stopping Distance {stopping_distance:.2f} distance units\")\n",
    "            print(f\"Simulation Brake Amount: {amt*100:.2f}%; Closed Form Brake Amount {pred*100:.2f}%\")\n",
    "            print()"
   ]
  },
  {
   "cell_type": "markdown",
   "metadata": {},
   "source": [
    "## FCN Training and Evaluation"
   ]
  },
  {
   "cell_type": "code",
   "execution_count": 38,
   "metadata": {},
   "outputs": [
    {
     "name": "stdout",
     "output_type": "stream",
     "text": [
      "WARNING: Weights file not found, initializing fcn with random weights.\n"
     ]
    }
   ],
   "source": [
    "'''\n",
    "Initialize FCN.\n",
    "\n",
    "You will need to supply additional parameters to the\n",
    "initializer function. See utils/nn.py for documentation.\n",
    "See demos/week3/Nonlinear_SystemID for example usage.\n",
    "\n",
    "Hint 1: There are two additional parameters you need to specify\n",
    "Hint 2:  What are the inputs for this FCN?  What is the ouput?\n",
    "What are the reasonable possible outputs?\n",
    "\n",
    "NOTE: If this is your first time running this block it will \n",
    "randomly initialize a set of weights.  Afterwards by default,\n",
    "this will load weights you trained earlier.  If you would like\n",
    "to force the model to reinitialize weights, provide a third\n",
    "additional argument retrain = True. (see utils/nn.py for more)\n",
    "'''\n",
    "if (MODE == 0):\n",
    "    model = nn.fcn(model_name = \"../../braking_distance/\" + CAR_MODEL + \"_bd\", num_inputs=2, out_range=(0,1))"
   ]
  },
  {
   "cell_type": "code",
   "execution_count": 39,
   "metadata": {},
   "outputs": [
    {
     "name": "stdout",
     "output_type": "stream",
     "text": [
      "EPOCH 1 0.206102\n",
      "EPOCH 41 0.010841\n",
      "EPOCH 81 0.008049\n",
      "EPOCH 121 0.005762\n",
      "EPOCH 161 0.004635\n",
      "EPOCH 200 0.004030\r"
     ]
    }
   ],
   "source": [
    "'''\n",
    "Generate 1000 inputs and targets and train for 200 epochs on this\n",
    "generated data.  (Note you can run this blck a few times to train\n",
    "further).\n",
    "\n",
    "Implementation Instructions:\n",
    "1.Initialize two empty lists, inputs and targets.\n",
    "2a.Get a brake amount and and two dimensional input by calling\n",
    "   stopping_distance_gen()\n",
    " b.Append the input to the inputs list, and the brake amount to\n",
    "   the targets list.\n",
    " c.Repeat 2a and 2b 1000 times.\n",
    "3.Use the model.train method to train with this data for 200 epochs.\n",
    "  (See nn.py for function information)\n",
    "'''\n",
    "if (MODE == 0):\n",
    "    inputs = []\n",
    "    targets = []\n",
    "    for i in range(1000):\n",
    "        amt, inp = stopping_distance_gen()\n",
    "        inputs.append(inp)\n",
    "        targets.append(amt)\n",
    "    model.train(input_data=inputs, targets=targets, num_epochs=200)\n",
    "    \n"
   ]
  },
  {
   "cell_type": "code",
   "execution_count": 40,
   "metadata": {},
   "outputs": [
    {
     "name": "stdout",
     "output_type": "stream",
     "text": [
      "INIT VEL: 0.477 TARG SD: 0.275 BRK AMT: 0.776 MODEL OUT:0.747 \n",
      "INIT VEL: 0.659 TARG SD: 0.475 BRK AMT: 0.866 MODEL OUT:0.859 \n",
      "INIT VEL: 0.461 TARG SD: 0.258 BRK AMT: 0.805 MODEL OUT:0.763 \n"
     ]
    }
   ],
   "source": [
    "'''\n",
    "Demonstrate the performance of the FCN brake amount estimator\n",
    "with a few examples.\n",
    "'''\n",
    "if (MODE == 0):\n",
    "    for i in range(3):\n",
    "        '''\n",
    "        Generate an example scenario complete with an initial velocity,\n",
    "        target stopping distance, and necessary brake amount.\n",
    "        \n",
    "        Then run your model on the appropriate input and record it's\n",
    "        predicted brake amount.\n",
    "        \n",
    "        Finally fill in the variable names you used in the blanks to output\n",
    "        the input, target, and output.\n",
    "        \n",
    "        Ideally the model ouput should be fairly close to the brake amount.\n",
    "        '''\n",
    "\n",
    "        #CODE HERE\n",
    "        amt, inp = stopping_distance_gen()\n",
    "        pred = model.predict(inp)\n",
    "\n",
    "        print(f\"INIT VEL: {inp[0]:.3f} TARG SD: {inp[1]:.3f} BRK AMT: {amt:.3f} MODEL OUT:{pred:.3f} \")"
   ]
  },
  {
   "cell_type": "code",
   "execution_count": 41,
   "metadata": {},
   "outputs": [
    {
     "name": "stdout",
     "output_type": "stream",
     "text": [
      "WITHIN 0.1 270/300 times\n",
      "MEDIAN ERROR 0.0276\n"
     ]
    },
    {
     "data": {
      "image/png": "[encoded data removed]",
      "text/plain": [
       "<Figure size 432x288 with 1 Axes>"
      ]
     },
     "metadata": {
      "needs_background": "light"
     },
     "output_type": "display_data"
    }
   ],
   "source": [
    "'''\n",
    "Empirically evaluate the model for it's performance.\n",
    "Present two stats in the end:\n",
    "1) The proportion of the time that the estimate is\n",
    "   within a certain tolerance (here 0.1)\n",
    "2) The median estimation error.\n",
    "'''\n",
    "TEST = 300\n",
    "correct = 0\n",
    "tol = 0.1\n",
    "errors = []\n",
    "for i in range(TEST):\n",
    "    print(f\"TESTING {i + 1}/{TEST}\", end = \"\\r\")\n",
    "    amt, inp = stopping_distance_gen()\n",
    "\n",
    "    if (MODE == 0):\n",
    "        out = model.predict(inp)\n",
    "    elif (MODE == 1):\n",
    "        out = simple_analytical_approx(inp, tol = 1e-5)\n",
    "\n",
    "    if (abs(out - amt) < tol):\n",
    "        correct += 1\n",
    "    errors.append(out - amt)\n",
    "print(f\"WITHIN {tol} {correct}/{TEST} times\")\n",
    "print(f\"MEDIAN ERROR {np.median(np.abs(errors)):.4f}\")\n",
    "\n",
    "plt.title(\"Error Distribution\")\n",
    "plt.hist(errors, bins = 200, range = (-1, 1))\n",
    "plt.show()"
   ]
  },
  {
   "cell_type": "markdown",
   "metadata": {},
   "source": [
    "## Model Usage"
   ]
  },
  {
   "cell_type": "markdown",
   "metadata": {},
   "source": [
    "Now you're ready to test out your algorithm!  Run the simulator in braking distance mode (command below) to begin.  Drive around to make sure you remember the controls.\n",
    "\n",
    "python simulator.py --mode braking_distance\n",
    "\n",
    "To run with complex internal model run:\n",
    "\n",
    "python simulator.py --mode braking_distance --car_model complex"
   ]
  },
  {
   "cell_type": "markdown",
   "metadata": {},
   "source": [
    "## Target Brake Point Marking"
   ]
  },
  {
   "cell_type": "markdown",
   "metadata": {},
   "source": [
    "Now drive up to one of the red stop lines in the simulator, braking nicely in front of the line.  Click 'm' this will record the position and direction in which you stopped in as a keypoint target.  Repeat this process at a few other stop lines.  (You could do other locations as well, but this is the most practical). \n",
    "\n",
    "If you accidentally add erroneous keypoints you can delete them individually by running keypoints.py. (Or delete all of them by trashing the keypoint_locations.json).  Note, either of these files are in the braking_distance folder."
   ]
  },
  {
   "cell_type": "markdown",
   "metadata": {},
   "source": [
    "## Precision Braking"
   ]
  },
  {
   "cell_type": "markdown",
   "metadata": {},
   "source": [
    "To apply precision braking approach a brake point while driving.  If a target brake point is in your heading, you should notice the option to hold 'b' appear in the terminal window.  This indicates that you may begin precision braking.  Hold 'b' to precision brake.  Release one you have stopped moving.  \n",
    "\n",
    "A graph will come up detailing how much you depressed the brake pedal as you approached the target brake point.  The reason we brake a varying amount over time is because we are replanning every timestep.  This prevents error from building up in our model, and naturally adjusts the car's behavior as appropriate."
   ]
  },
  {
   "cell_type": "markdown",
   "metadata": {},
   "source": [
    "## Evaluation"
   ]
  },
  {
   "cell_type": "markdown",
   "metadata": {},
   "source": [
    "You will be evaluated on whether or not you successfully brake, somewhat smoothly, roughly at your target brake point.  You shouldn't overshoot the brake point or stop too early either.  This should work for both simple and complex models."
   ]
  },
  {
   "cell_type": "code",
   "execution_count": null,
   "metadata": {},
   "outputs": [],
   "source": []
  }
 ],
 "metadata": {
  "kernelspec": {
   "display_name": "Python 3",
   "language": "python",
   "name": "python3"
  },
  "language_info": {
   "codemirror_mode": {
    "name": "ipython",
    "version": 3
   },
   "file_extension": ".py",
   "mimetype": "text/x-python",
   "name": "python",
   "nbconvert_exporter": "python",
   "pygments_lexer": "ipython3",
   "version": "3.7.4"
  }
 },
 "nbformat": 4,
 "nbformat_minor": 2
}
